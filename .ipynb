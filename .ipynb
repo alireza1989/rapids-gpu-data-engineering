{
 "cells": [
  {
   "cell_type": "markdown",
   "metadata": {},
   "source": [
    "\n",
    "<img src=\"images/rapids-logo.png\" width=\"500\"/>\n",
    "<br/>\n",
    "<br/>\n",
    "<h1> Introduction </h1>\n",
    "<br/>\n",
    "\n",
    "The RAPIDS suite of software libraries gives you the freedom to execute end-to-end data science and analytics pipelines entirely on GPUs. It relies on NVIDIA® CUDA® primitives for low-level compute optimization, but exposes that GPU parallelism and high-bandwidth memory speed through user-friendly Python interfaces.\n",
    "\n",
    "RAPIDS also focuses on common data preparation tasks for analytics and data science. This includes a familiar DataFrame API that integrates with a variety of machine learning algorithms for end-to-end pipeline accelerations without paying typical serialization costs. RAPIDS also includes support for multi-node, multi-GPU deployments, enabling vastly accelerated processing and training on much larger dataset sizes."
   ]
  },
  {
   "cell_type": "markdown",
   "metadata": {},
   "source": [
    "-------"
   ]
  },
  {
   "cell_type": "markdown",
   "metadata": {},
   "source": [
    "<h1> Benefits of Using Rapids </h1>\n",
    "<br/>\n",
    "<img src=\"images/rapids_benefits.png\">\n",
    "<p style=\"text-align: center\"> image source: rapid.ai</p>\n",
    "<br/>\n",
    "<h1> Performance at Scale </h1>\n",
    "<br/>\n",
    "<img src=\"images/rapids-end-to-end-performance-chart-oss-page-r4.svg\" width='700px'>\n",
    "<p style=\"text-align: center\"> image source: rapid.ai</p>\n",
    "<br/>"
   ]
  },
  {
   "cell_type": "markdown",
   "metadata": {},
   "source": [
    "------\n",
    "\n",
    "<h1> prerequisites </h1>\n",
    "<br/>\n",
    "<br/>\n",
    "\n",
    "<table style=\"text-align: center; width: 70%\">\n",
    "  <tr>\n",
    "    <th>PreReq</th> \n",
    "    <th>Version</th>\n",
    "  </tr>\n",
    "  <tr>\n",
    "    <td>Ubuntu</td> \n",
    "    <td>16.04 / 18.04</td>\n",
    "  </tr>\n",
    "  <tr>\n",
    "    <td>CUDA</td>\n",
    "    <td>9.2 +</td>\n",
    "  </tr>\n",
    "  <tr>\n",
    "    <td>NVIDIA driver</td>\n",
    "    <td>396.44 +</td>\n",
    "  </tr>\n",
    "</table>\n",
    "\n",
    "----\n",
    "\n",
    "<h2>Installation using Conda</h2>\n",
    "\n",
    "RAPIDS is currently available in Conda package manager (documentation say it will be available in PIP package manager soon).\n",
    "\n",
    "Type the following command in the terminal:\n",
    "\n",
    "```bash\n",
    "$ conda install -c nvidia -c rapidsai -c numba -c conda-forge -c defaults cudf=0.3.0\n",
    "```\n",
    "\n",
    "**Note:** This conda installation only applies to Linux and Python versions 3.5/3.6.\n",
    "\n",
    "You can create and activate a development environment using the conda commands:\n",
    "\n",
    "```bash\n",
    "# create the conda environment (assuming in base `cudf` directory)\n",
    "$ conda env create --name cudf_dev --file conda/environments/dev_py35.yml\n",
    "# activate the environment\n",
    "$ source activate cudf_dev\n",
    "# when not using default arrow version 0.10.0, run\n",
    "$ conda install -c nvidia -c rapidsai -c numba -c conda-forge -c defaults pyarrow=$ARROW_VERSION\n",
    "```\n",
    "-----"
   ]
  },
  {
   "cell_type": "code",
   "execution_count": null,
   "metadata": {},
   "outputs": [],
   "source": []
  }
 ],
 "metadata": {
  "kernelspec": {
   "display_name": "Python 3",
   "language": "python",
   "name": "python3"
  },
  "language_info": {
   "codemirror_mode": {
    "name": "ipython",
    "version": 3
   },
   "file_extension": ".py",
   "mimetype": "text/x-python",
   "name": "python",
   "nbconvert_exporter": "python",
   "pygments_lexer": "ipython3",
   "version": "3.6.4"
  }
 },
 "nbformat": 4,
 "nbformat_minor": 2
}
